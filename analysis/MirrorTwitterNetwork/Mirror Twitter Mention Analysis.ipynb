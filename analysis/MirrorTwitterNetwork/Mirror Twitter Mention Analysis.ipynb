{
 "cells": [
  {
   "cell_type": "code",
   "execution_count": 2,
   "id": "1219f09f",
   "metadata": {},
   "outputs": [],
   "source": [
    "import csv\n",
    "import json\n",
    "import os\n",
    "import re"
   ]
  },
  {
   "cell_type": "code",
   "execution_count": 3,
   "id": "3f7e901a",
   "metadata": {},
   "outputs": [],
   "source": [
    "# os.listdir(\"../../data\")\n",
    "datadir = \"../../data/\""
   ]
  },
  {
   "cell_type": "code",
   "execution_count": 4,
   "id": "1930ba71",
   "metadata": {},
   "outputs": [],
   "source": [
    "def get_associated_twitters(text):\n",
    "    \"\"\"\n",
    "    Parses a block of text and returns a list of twitter accounts mentioned in the text.\n",
    "    \"\"\"\n",
    "    \n",
    "    accounts = list(set(re.findall(\"(?<=twitter.com\\/)\\w+(?=\\/)\", text)))\n",
    "    return accounts"
   ]
  },
  {
   "cell_type": "code",
   "execution_count": 5,
   "id": "c99b3fcf",
   "metadata": {},
   "outputs": [],
   "source": [
    "# Read all files and store processed dictionary in list\n",
    "processed_data = []\n",
    "# for file in os.listdir(datadir)[42760:42768]:\n",
    "for i, file in enumerate(os.listdir(datadir)):\n",
    "    with open(datadir + file, 'r') as f:\n",
    "    # read file\n",
    "        try:\n",
    "            d = json.loads(json.load(f))\n",
    "        except:\n",
    "            pass\n",
    "        \n",
    "        mirrorDict = dict()\n",
    "        # store data\n",
    "        try:\n",
    "            arweaveTx = file.split(\".json\")[0]\n",
    "\n",
    "            mirrorDict[\"contributor\"] = d[\"authorship\"][\"contributor\"];\n",
    "            mirrorDict[\"title\"] = d[\"content\"][\"title\"]\n",
    "            mirrorDict[\"date_published\"] = d[\"content\"][\"timestamp\"]\n",
    "            mirrorDict[\"body\"] = d[\"content\"][\"body\"]\n",
    "            try:\n",
    "                mirrorDict[\"digest\"] = d[\"originalDigest\"]\n",
    "            except:\n",
    "                mirrorDict[\"digest\"] = d[\"digest\"]\n",
    "            try:\n",
    "                mirrorDict[\"publication\"] = d[\"publication\"]\n",
    "            except:\n",
    "                mirrorDict[\"publication\"] = \"\"\n",
    "            mirrorDict\n",
    "            mirrorDict[\"associated_twitters\"] = get_associated_twitters(mirrorDict[\"body\"])\n",
    "            mirrorDict[\"arweave_tx\"] = arweaveTx\n",
    "\n",
    "            processed_data.append(mirrorDict)\n",
    "        except:\n",
    "            print(arweaveTx, d)\n",
    "        \n",
    "f.close()"
   ]
  },
  {
   "cell_type": "markdown",
   "id": "8b268fb1",
   "metadata": {},
   "source": [
    "## Articles table\n",
    "\n",
    "Each row becomes a node with Article as the label (and Mirror) as a label\n",
    "\n",
    "| contributor | digest | date_published | title | arweave_tx |\n",
    "|--|--|--|--|--|\n",
    "| 0xa39C9Ce81c6FaC173578658Ac8FEbf60eb5a3513 | prMJHUw4m_1E_KM5Yyo7uOUEtVX-tJR3_kzs4zKhwZ4 | 1642280045 | NFTs Are Critical for the Future of Art - OneZero | dafadsfa "
   ]
  },
  {
   "cell_type": "markdown",
   "id": "8f44597c",
   "metadata": {},
   "source": [
    "## Wallets\n",
    "\n",
    "Each row becomes a node with Wallet as the label\n",
    "\n",
    "| wallet |\n",
    "|--|\n",
    "| 0xa39C9Ce81c6FaC173578658Ac8FEbf60eb5a3513 \n",
    "\n",
    "## Accounts\n",
    "\n",
    "Each row becomes a node with Account as a label (and Twitter as a label)\n",
    "\n",
    "| username | digest |\n",
    "|--|--|\n",
    "| "
   ]
  },
  {
   "cell_type": "code",
   "execution_count": 23,
   "id": "648cb0ba",
   "metadata": {},
   "outputs": [
    {
     "data": {
      "text/plain": [
       "'hello  ,guys~~\\\\'"
      ]
     },
     "execution_count": 23,
     "metadata": {},
     "output_type": "execute_result"
    }
   ],
   "source": [
    "# [(i, d[\"associated_twitters\"]) for i,d in enumerate(processed_data)]\n",
    "[d for d in processed_data if d[\"digest\"] == \"CAA3e6zD81jfofKRyYV4briD6Q3FRZESKmGKFW8jJ8U\"][0][\"title\"].replace('\\\\', '')"
   ]
  },
  {
   "cell_type": "markdown",
   "id": "240810fe",
   "metadata": {},
   "source": [
    "## Create csv files for Neo4j ingest"
   ]
  },
  {
   "cell_type": "code",
   "execution_count": 10,
   "id": "fe93fdc4",
   "metadata": {},
   "outputs": [
    {
     "data": {
      "text/plain": [
       "{'contributor': '0x248569ed129d725E9C99858995Cf8Ae820C514e3',\n",
       " 'title': 'linux 查看自己所在的公网ip',\n",
       " 'date_published': 1635305988,\n",
       " 'body': 'curl\\xa0members.3322.org/dyndns/getip\\n\\n其他的方法还有:\\n\\n```\\ncurl icanhazip.com  \\ncurl ifconfig.me  \\ncurl curlmyip.com  \\ncurl ip.appspot.com  \\ncurl ipinfo.io/ip  \\ncurl ipecho.net/plain  \\ncurl www.trackip.net/i  \\n```',\n",
       " 'digest': 'Yb5BdlXlnPZqpzt_tTIP9E6qp-zMQZUAlaVSWIbi4qA',\n",
       " 'publication': '',\n",
       " 'associated_twitters': [],\n",
       " 'arweave_tx': 'oYCVj5VHaqJcC0qzTT1bwEBBq8s2QbMODpXiNbcheg8'}"
      ]
     },
     "execution_count": 10,
     "metadata": {},
     "output_type": "execute_result"
    }
   ],
   "source": [
    "processed_data[24900]"
   ]
  },
  {
   "cell_type": "markdown",
   "id": "3afc4893",
   "metadata": {},
   "source": [
    "### Create Articles table"
   ]
  },
  {
   "cell_type": "code",
   "execution_count": 24,
   "id": "3ccb2ebf",
   "metadata": {},
   "outputs": [],
   "source": [
    "# contributor\tdigest\tdate_published\ttitle\n",
    "articles = [\n",
    "    {\n",
    "        \"contributor\": r[\"contributor\"],\n",
    "        \"digest\": r[\"digest\"],\n",
    "        \"arweave_tx\": r[\"arweave_tx\"],\n",
    "        \"date_published\": r[\"date_published\"],\n",
    "        \"title\": r[\"title\"].replace('\\\\', '') # need to escape '\\' for neo4j formatting\n",
    "    } for r in processed_data\n",
    "]\n",
    "\n",
    "keys = articles[0].keys()\n",
    "# print(articles)\n",
    "with open(\"./data/neo4j-ingest/articles.csv\", \"w\", encoding=\"utf-8\") as f:\n",
    "    fcsv = csv.DictWriter(f, keys)\n",
    "    fcsv.writeheader()\n",
    "    fcsv.writerows(articles)\n",
    "f.close()"
   ]
  },
  {
   "cell_type": "code",
   "execution_count": 177,
   "id": "95616b97",
   "metadata": {},
   "outputs": [
    {
     "data": {
      "text/plain": [
       "{'contributor': '0xc767778E9B7841C029966f05B9762d3342e0510A',\n",
       " 'title': 'CGV Research: Will Treasure, Run by DAOs, Be the “Nintendo” in the Web3 World?',\n",
       " 'date_published': 1642581301,\n",
       " 'body': '\\\\*— \\\\*By: Vargason, CGV FoF Research Fellow\\n\\nThe continuous expansion of metaverse projects exacerbates homogenization. The strategy of betting on projects that can continuously expand the ecosystem, empower games and NFTs may be better than betting on new projects.\\n\\n![](https://miro.medium.com/max/1400/1\\\\*TxxSt11X-nMVXl2-5BlLTQ.jpeg)\\n\\nWhile most industries have struggled to survive since the outbreak of the Covid-19 pandemic in 2020, the Axie Infinity of GameFi has swept the globe, creating wealth for many families and attracting a host of users outside the cryptocurrency world to participate in the blockchain game featured with “Play to Earn”.\\n\\nAt a time when more and more projects focus only on making games, CGV finds that the Treasure run by DAOs that blurs the boundaries between NFTs, games, DeFi, and the metaverse, seems to be the next Nintendo.\\n\\n## What is Treasure?\\n\\nTreasure is an NFT trading market and metaverse core infrastructure built on L2 (Arbitrum) and managed by DAOs. Treasure hopes to serve as a bridge in the metaverse, connecting the growing metaverse network and integrating NFTs, DeFi, and games through openness and composability.\\n\\nOn Treasure’s NFT marketplace, in addition to selling its NFTs, it sells NFTs of its partners. In the future, it may be possible to trade unpartnered NFTs, using Treasure’s token MAGIC as the medium of exchange. MAGIC will be used and consumed in Treasure’s metaverse games in addition to the NFT marketplace.\\n\\n## 1. Treasure’s Game: Bridgeworld\\n\\nTreasure turns MAGIC into the “reserve asset” in the metaverse and makes use of Treasure (NFT | resources) and Legions (NFT | players) for ecological construction. **CGV learned that the relationship between the three is that MAGIC is the power of the game world, Treasure is the resource that players use to achieve their purpose, and players need MAGIC and Treasure to give them purpose in the game, and they support each other.**\\n\\n![](https://miro.medium.com/max/1400/1\\\\*P6zVZMC2KA_21klO3fb0sQ.png)\\n\\nTreasure is developing an interactive game — Bridgeworld. Players are mainly legions; soldiers mine MAGIC and use Treasure to upgrade their level. The game provides various maps, a legion protects the Treasure in the center of the map, while another legion launches strikes, and the winner retains the Treasure.\\n\\n## 2. Treasure’s NFT marketplace: Treasure Marketplace\\n\\nTreasure Marketplace is Treasure’s NFT marketplace built on L2 (Arbitrum), and all transactions on this marketplace are performed using MAGIC. Part of the transaction fees will be used to award TreasureDAO.\\n\\n![](https://miro.medium.com/max/1400/1\\\\*ScNPbRCc1N9w9ykgNNQ5CA.png)\\n\\nOn the Treasure Marketplace, in addition to trading its NFT projects (such as Treasure and Legions), the NFTs (such as Smol Brains, etc.) of partners can be traded. It seems that Treasure is not satisfied with the current L2 curated NFT marketplace. In the future, it will try to become the L2 general NFT marketplace.\\n\\n![](https://miro.medium.com/max/1400/1\\\\*kH3Ux_9NwIpjFJ4pERFz3w.png)\\n\\nAccording to market information, CGV learned that as of January 12, 2022, the trading volume of NFTs in Treasure Marketplace exceeded 33.9 million MAGICs, or approximately $68.6 million.\\n\\n## 3. TreasureDAO\\n\\nDAO plays an essential role In Treasure. Treasure is managed by TreasureDAO, and all decisions are proposed by TreasureDAO and voted on by MAGIC holders. A 5% commission on transactions in the Treasure Marketplace will be distributed to TreasureDAO.\\n\\n## Treasure’s economic model\\n\\nThe total number of MAGIC is 320 million and players obtain MAGIC by playing games, mining tokens, and participating in Bridgeworld.\\n\\nTreasure has created an ecosystem that fully leverages MAGIC, which can be used to purchase useful items and unique NFTs, such as in-game treasures and players, as well as in-game items and NFTs for cooperative projects.\\n\\n![](https://miro.medium.com/max/1400/1\\\\*FeUQdPbDoSGTRuAsGGEjKw.png)\\n\\nThe strategy of early DeFi and GameFi projects is to attract users with high APY, but users do not stay for a long time and often choose to sell for profit, which is fatal to the long-term development of the projects. Treasure has optimized this strategy in the economic model. It does not pursue high APY, but gradually reduces LP rewards in the mining process, and cooperates with SushiSwap and Olympus to launch liquidity mining and bonds, significantly lowering the sell-off pressure of MAGIC and boosting MAGIC’s liquidity.\\n\\n## Partners of Treasure\\n\\nBy partnering with projects such as Smolverse series, Life, Imperium, Mural, Olympus, and others, Treasure is creating a shared economic model for the metaverse, and MAGIC will power all these projects.\\n\\n![](https://miro.medium.com/max/1400/1\\\\*nCZyPl2tVqIsqXeQWV6gkA.png)\\n\\n*Some of Treasure’s collaborative projects*\\n\\n## 1. Smolverse series\\n\\nSmol Brains is an NFT project based on L2 (Arbitrum). By staking Smol Brains, the owner can accrue IQ points while continuously unlocking free Smolverse series NFTs, such as Smol Cars, Smol Pets, etc.\\n\\n![](https://miro.medium.com/max/1400/1\\\\*ycsVFbStDGcHllvUBRyLXQ.png)\\n\\n\\\\*Source: \\\\**<https://www.smolverse.lol/>*\\n\\nWith the improvement of Smol Brains’ IQ and the combination of a series of NFTs, Smol Brains will embark on an exciting adventure.\\n\\nNote: The period of distributing Smol Brains for free has ended. Nowadays, players have to buy MAGIC on the Treasure Marketplace to exchange them.\\n\\n## **2. Mural**\\n\\nMural is a cross-Layer2 network and cross-chain NFT transmission solution. The collaboration between Mural and Treasure enables NFTs on the EVM compatible chain (L1) to be bought, sold and stored on the Treasure Marketplace. Treasure can enable game applications on Lay1 to be used on Layer2, significantly reducing the cost of players.\\n\\n## 3. Olympus Pro\\n\\nTreasure and Olympus Pro launched the MAGIC-ETH <> MAGIC-gOHM.\\n\\n![](https://miro.medium.com/max/1400/1\\\\*PM04dpV-kjJhkBe-WRbSoA.png)\\n\\n*Source: [https://pro.olympusdao.finance/#/partners/TreasureDAO](#/partners/TreasureDAO)*.\\n\\nUsers can buy Magic bonds at a low price with LP, and Treasure sells Magic at a discount for LP. Treasure improves its liquidity in a more efficient way.\\n\\nNote: We only list some of the projects in cooperation with Treasure.\\n\\n## Comparison of Treasure and Nintendo\\n\\nThe development of traditional games has undergone many stages, and numerous industry giants like Nintendo, Blizzard have emerged. As one of the most influential and renowned game platform manufacturers, Nintendo has created many famous characters in the history of gaming, such as Mario, Donkey Kong and developed the most classic games in the history of gaming, such as The Legend of Zelda.\\n\\nThe charging model of the game operation platform has developed from the initial product agency and time-based charging to today’s prop-based charging, which provides a rapid development opportunity for the current combination of game props and NFTs.\\n\\nSince 2020, the COVID-19 has caused widespread economic devastation around the world. However, the global video game industry was booming, with the Axie Infinity of GameFi gaining popularity across the globe. More and more users are participating in blockchain games characterized by “Play to Earn”.\\n\\nAt a time when most projects are just building games, Treasure has already built game consoles as scheduled. Treasure not only develops its Legions games, but also collaborates on projects such as the highly participatory Smolverse series and the Life series. Taking Smol Brains as an example, users get free Smol Brains by participating in the ecological construction of Treasure in the early stage. Additionally, users can sell Smol Brains and other NFFs in the Treasure NFT marketplace at any time, and then exchange them for MAGIC. Users can participate in Smolverse’s subsequent adventure games by holding Smol Brains.\\n\\nWith a large number of interesting projects introduced to the Treasure ecosystem, Treasure helps users screen out most of the unreliable projects, which will not only reward participants but also deepen their trust in Treasure. Besides, anyone who trusts Treasure will participate in the metaverse world created by Treasure. TreasureDAO adopts the governance mode of DAO, where the community can participate in the governance, voting and revenue distribution of projects. At this point, we will see a brand new gaming console.\\n\\n## Summary\\n\\nWith the continuous construction of the Treasure’s Metaverse Bridge, the MAGIC will be extensively used in DeFi, games, NFTs and other scenarios, which will constantly attract the deep participation of users and projects.\\n\\nIt’s worth nothing that Treasure is a project built on L2, and it will take some time for the public to accept L2; Treasure has not launched any games, which may cause potential risks.\\n\\nTreasure is weaving its web in accordance with its plan. We don’t know how far it can go, but as long as one of the breakthroughs is made, Treasure will usher in a booming development.\\n\\nNote:This article is a CGV FoF research paper and is for reference only. It does not constitute any investment proposal.\\n\\n**About CGV FOF: CGV FoF is an Asia-based Fund of Funds (FoF) that focuses on investments in Crypto Fund and Crypto Studio. CGV FoF is composed of family funds from Japan, Korea, and China’s mainland and Taiwan, with headquarters in Japan and branches in Singapore and Canada.**\\n\\n*Reference:*\\n\\n\\\\*1. \\\\**<https://www.treasure.lol/>*\\n\\n\\\\*2. \\\\**<https://docs.treasure.lol/>*\\n\\n\\\\*3. \\\\**<https://treasure-marketplace-analytics.herokuapp.com/analytics>*',\n",
       " 'digest': 'IRhVuk8ZzbIOofE6y2d1z1VSh8211dj0JHA8fcEkTDk',\n",
       " 'publication': '',\n",
       " 'associated_twitters': [],\n",
       " 'arweave_tx': 'NfaxM6kg3CH9vogcqnoNbOtM7GF1Jqyh4jaBlDsr_NE'}"
      ]
     },
     "execution_count": 177,
     "metadata": {},
     "output_type": "execute_result"
    }
   ],
   "source": [
    "processed_data[3]"
   ]
  },
  {
   "cell_type": "markdown",
   "id": "c2ac13b0",
   "metadata": {},
   "source": [
    "### Create Wallets table"
   ]
  },
  {
   "cell_type": "code",
   "execution_count": 26,
   "id": "7d28d573",
   "metadata": {},
   "outputs": [],
   "source": [
    "wallets = [\n",
    "    {\n",
    "        \"contributor\": r[\"contributor\"]\n",
    "    } for r in processed_data\n",
    "]\n",
    "\n",
    "# keys = wallets[0].keys()\n",
    "# # print(articles)\n",
    "# with open(\"./data/neo4j-ingest/wallets.csv\", \"w\") as f:\n",
    "#     fcsv = csv.DictWriter(f, keys)\n",
    "#     fcsv.writeheader()\n",
    "#     fcsv.writerows(wallets)\n",
    "# f.close()"
   ]
  },
  {
   "cell_type": "code",
   "execution_count": 34,
   "id": "e0ba22d6",
   "metadata": {},
   "outputs": [
    {
     "data": {
      "text/plain": [
       "21821"
      ]
     },
     "execution_count": 34,
     "metadata": {},
     "output_type": "execute_result"
    }
   ],
   "source": [
    "len(list(set([d[\"contributor\"] for d in wallets])))"
   ]
  },
  {
   "cell_type": "markdown",
   "id": "7869055a",
   "metadata": {},
   "source": [
    "### Create Accounts table"
   ]
  },
  {
   "cell_type": "code",
   "execution_count": 162,
   "id": "5c03ec60",
   "metadata": {},
   "outputs": [],
   "source": [
    "# processed_data[28]"
   ]
  },
  {
   "cell_type": "code",
   "execution_count": 174,
   "id": "2e1b78af",
   "metadata": {},
   "outputs": [],
   "source": [
    "accounts = [\n",
    "    {\n",
    "    \"digest\": d[\"digest\"],\n",
    "    \"linked_twitter\": s\n",
    "    }\n",
    "    for d in processed_data for s in d[\"associated_twitters\"]\n",
    "]\n",
    "\n",
    "keys = accounts[0].keys()\n",
    "# print(articles)\n",
    "with open(\"./data/neo4j-ingest/accounts.csv\", \"w\") as f:\n",
    "    fcsv = csv.DictWriter(f, keys)\n",
    "    fcsv.writeheader()\n",
    "    fcsv.writerows(accounts)\n",
    "f.close()"
   ]
  },
  {
   "cell_type": "markdown",
   "id": "ea36dd02",
   "metadata": {},
   "source": [
    "# Neo4j Load Scripts"
   ]
  },
  {
   "cell_type": "code",
   "execution_count": null,
   "id": "b49a1306",
   "metadata": {},
   "outputs": [],
   "source": [
    "# Articles nodes\n",
    "#         \"contributor\": r[\"contributor\"],\n",
    "#         \"digest\": r[\"digest\"],\n",
    "#         \"arweave_tx\": r[\"arweave_tx\"],\n",
    "#         \"date_published\": r[\"date_published\"],\n",
    "#         \"title\": r[\"title\"]\n",
    "LOAD CSV WITH HEADERS FROM 'https://chainverse.s3.us-east-2.amazonaws.com/neo/mirror/nodes/articles.csv' AS row\n",
    "MERGE (article:Article:Mirror {digest: row.digest})\n",
    "  ON CREATE SET article.contributor = row.contributor, article.arweave_tx = row.arweave_tx, article.date_published = row.date_published, article.title = row.title;"
   ]
  },
  {
   "cell_type": "code",
   "execution_count": null,
   "id": "30482a09",
   "metadata": {},
   "outputs": [],
   "source": [
    "# Wallet nodes\n",
    "# wallets = [\n",
    "#     {\n",
    "#         \"contributor\": r[\"contributor\"]\n",
    "#     } for r in processed_data[0:400]\n",
    "# ]\n",
    "LOAD CSV WITH HEADERS FROM 'https://chainverse.s3.us-east-2.amazonaws.com/neo/mirror/nodes/wallets.csv' AS row\n",
    "MERGE (wallet:Wallet {address: row.contributor});"
   ]
  },
  {
   "cell_type": "code",
   "execution_count": null,
   "id": "a0647fcc",
   "metadata": {},
   "outputs": [],
   "source": [
    "# Account nodes\n",
    "# accounts = [\n",
    "#     {\n",
    "#     \"digest\": d[\"digest\"],\n",
    "#     \"linked_twitter\": s\n",
    "#     }\n",
    "#     for d in processed_data[0:400] for s in d[\"associated_twitters\"]\n",
    "# ]\n",
    "LOAD CSV WITH HEADERS FROM 'https://chainverse.s3.us-east-2.amazonaws.com/neo/mirror/nodes/accounts.csv' AS row\n",
    "MERGE (account:Account:Twitter {username: row.linked_twitter})"
   ]
  },
  {
   "cell_type": "markdown",
   "id": "198dd9a4",
   "metadata": {},
   "source": [
    "## Create indexes"
   ]
  },
  {
   "cell_type": "code",
   "execution_count": null,
   "id": "746f35b8",
   "metadata": {},
   "outputs": [],
   "source": [
    "CREATE INDEX digest FOR (a:Article) ON (a.digest);\n",
    "CREATE INDEX wallet_address FOR (w:Wallet) ON (w.address);\n",
    "CREATE CONSTRAINT digest ON (a:Article) ASSERT a.address IS UNIQUE;\n",
    "CREATE CONSTRAINT wallet_address ON (w:Wallet) ASSERT w.address IS UNIQUE;\n",
    "CALL db.awaitIndexes();"
   ]
  },
  {
   "cell_type": "markdown",
   "id": "22e338c0",
   "metadata": {},
   "source": [
    "### Create relations"
   ]
  },
  {
   "cell_type": "code",
   "execution_count": null,
   "id": "d840cc46",
   "metadata": {},
   "outputs": [],
   "source": [
    "# Wallet to Article\n",
    "LOAD CSV WITH HEADERS FROM 'https://chainverse.s3.us-east-2.amazonaws.com/neo/mirror/nodes/articles.csv' AS row\n",
    "MATCH (article:Article {digest: row.digest})\n",
    "MATCH (wallet:Wallet {address: row.contributor})\n",
    "MERGE (wallet)-[wc:PUBLISHED]->(article);\n",
    "#   ON CREATE SET op.unitPrice = toFloat(row.UnitPrice), op.quantity = toFloat(row.Quantity);"
   ]
  },
  {
   "cell_type": "code",
   "execution_count": null,
   "id": "c85a376d",
   "metadata": {},
   "outputs": [],
   "source": [
    "# Article to Twitter account\n",
    "LOAD CSV WITH HEADERS FROM 'https://chainverse.s3.us-east-2.amazonaws.com/neo/mirror/nodes/accounts.csv' AS row\n",
    "MATCH (account:Account {username: row.linked_twitter})\n",
    "MATCH (article:Article {digest: row.digest})\n",
    "MERGE (article)-[aa:REFERENCES]->(account);\n"
   ]
  }
 ],
 "metadata": {
  "kernelspec": {
   "display_name": "mirror-analysis",
   "language": "python",
   "name": "mirror-analysis"
  },
  "language_info": {
   "codemirror_mode": {
    "name": "ipython",
    "version": 3
   },
   "file_extension": ".py",
   "mimetype": "text/x-python",
   "name": "python",
   "nbconvert_exporter": "python",
   "pygments_lexer": "ipython3",
   "version": "3.8.0"
  }
 },
 "nbformat": 4,
 "nbformat_minor": 5
}
